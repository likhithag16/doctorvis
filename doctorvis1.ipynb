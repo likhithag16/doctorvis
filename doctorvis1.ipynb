{
 "cells": [
  {
   "cell_type": "code",
   "execution_count": 5,
   "id": "098f4612",
   "metadata": {},
   "outputs": [],
   "source": [
    "import pandas as pd\n",
    "import numpy as np\n",
    "import matplotlib.pyplot as plt\n",
    "import seaborn as sns"
   ]
  },
  {
   "cell_type": "code",
   "execution_count": 6,
   "id": "d67f7999",
   "metadata": {},
   "outputs": [],
   "source": [
    "df = pd.read_csv('DoctorVisits.csv')"
   ]
  },
  {
   "cell_type": "code",
   "execution_count": 8,
   "id": "2aeade46",
   "metadata": {},
   "outputs": [
    {
     "data": {
      "text/html": [
       "<div>\n",
       "<style scoped>\n",
       "    .dataframe tbody tr th:only-of-type {\n",
       "        vertical-align: middle;\n",
       "    }\n",
       "\n",
       "    .dataframe tbody tr th {\n",
       "        vertical-align: top;\n",
       "    }\n",
       "\n",
       "    .dataframe thead th {\n",
       "        text-align: right;\n",
       "    }\n",
       "</style>\n",
       "<table border=\"1\" class=\"dataframe\">\n",
       "  <thead>\n",
       "    <tr style=\"text-align: right;\">\n",
       "      <th></th>\n",
       "      <th>Unnamed: 0</th>\n",
       "      <th>visits</th>\n",
       "      <th>gender</th>\n",
       "      <th>age</th>\n",
       "      <th>income</th>\n",
       "      <th>illness</th>\n",
       "      <th>reduced</th>\n",
       "      <th>health</th>\n",
       "      <th>private</th>\n",
       "      <th>freepoor</th>\n",
       "      <th>freerepat</th>\n",
       "      <th>nchronic</th>\n",
       "      <th>lchronic</th>\n",
       "    </tr>\n",
       "  </thead>\n",
       "  <tbody>\n",
       "    <tr>\n",
       "      <th>0</th>\n",
       "      <td>1</td>\n",
       "      <td>1</td>\n",
       "      <td>female</td>\n",
       "      <td>0.19</td>\n",
       "      <td>0.55</td>\n",
       "      <td>1</td>\n",
       "      <td>4</td>\n",
       "      <td>1</td>\n",
       "      <td>yes</td>\n",
       "      <td>no</td>\n",
       "      <td>no</td>\n",
       "      <td>no</td>\n",
       "      <td>no</td>\n",
       "    </tr>\n",
       "    <tr>\n",
       "      <th>1</th>\n",
       "      <td>2</td>\n",
       "      <td>1</td>\n",
       "      <td>female</td>\n",
       "      <td>0.19</td>\n",
       "      <td>0.45</td>\n",
       "      <td>1</td>\n",
       "      <td>2</td>\n",
       "      <td>1</td>\n",
       "      <td>yes</td>\n",
       "      <td>no</td>\n",
       "      <td>no</td>\n",
       "      <td>no</td>\n",
       "      <td>no</td>\n",
       "    </tr>\n",
       "    <tr>\n",
       "      <th>2</th>\n",
       "      <td>3</td>\n",
       "      <td>1</td>\n",
       "      <td>male</td>\n",
       "      <td>0.19</td>\n",
       "      <td>0.90</td>\n",
       "      <td>3</td>\n",
       "      <td>0</td>\n",
       "      <td>0</td>\n",
       "      <td>no</td>\n",
       "      <td>no</td>\n",
       "      <td>no</td>\n",
       "      <td>no</td>\n",
       "      <td>no</td>\n",
       "    </tr>\n",
       "    <tr>\n",
       "      <th>3</th>\n",
       "      <td>4</td>\n",
       "      <td>1</td>\n",
       "      <td>male</td>\n",
       "      <td>0.19</td>\n",
       "      <td>0.15</td>\n",
       "      <td>1</td>\n",
       "      <td>0</td>\n",
       "      <td>0</td>\n",
       "      <td>no</td>\n",
       "      <td>no</td>\n",
       "      <td>no</td>\n",
       "      <td>no</td>\n",
       "      <td>no</td>\n",
       "    </tr>\n",
       "    <tr>\n",
       "      <th>4</th>\n",
       "      <td>5</td>\n",
       "      <td>1</td>\n",
       "      <td>male</td>\n",
       "      <td>0.19</td>\n",
       "      <td>0.45</td>\n",
       "      <td>2</td>\n",
       "      <td>5</td>\n",
       "      <td>1</td>\n",
       "      <td>no</td>\n",
       "      <td>no</td>\n",
       "      <td>no</td>\n",
       "      <td>yes</td>\n",
       "      <td>no</td>\n",
       "    </tr>\n",
       "    <tr>\n",
       "      <th>5</th>\n",
       "      <td>6</td>\n",
       "      <td>1</td>\n",
       "      <td>female</td>\n",
       "      <td>0.19</td>\n",
       "      <td>0.35</td>\n",
       "      <td>5</td>\n",
       "      <td>1</td>\n",
       "      <td>9</td>\n",
       "      <td>no</td>\n",
       "      <td>no</td>\n",
       "      <td>no</td>\n",
       "      <td>yes</td>\n",
       "      <td>no</td>\n",
       "    </tr>\n",
       "    <tr>\n",
       "      <th>6</th>\n",
       "      <td>7</td>\n",
       "      <td>1</td>\n",
       "      <td>female</td>\n",
       "      <td>0.19</td>\n",
       "      <td>0.55</td>\n",
       "      <td>4</td>\n",
       "      <td>0</td>\n",
       "      <td>2</td>\n",
       "      <td>no</td>\n",
       "      <td>no</td>\n",
       "      <td>no</td>\n",
       "      <td>no</td>\n",
       "      <td>no</td>\n",
       "    </tr>\n",
       "    <tr>\n",
       "      <th>7</th>\n",
       "      <td>8</td>\n",
       "      <td>1</td>\n",
       "      <td>female</td>\n",
       "      <td>0.19</td>\n",
       "      <td>0.15</td>\n",
       "      <td>3</td>\n",
       "      <td>0</td>\n",
       "      <td>6</td>\n",
       "      <td>no</td>\n",
       "      <td>no</td>\n",
       "      <td>no</td>\n",
       "      <td>no</td>\n",
       "      <td>no</td>\n",
       "    </tr>\n",
       "    <tr>\n",
       "      <th>8</th>\n",
       "      <td>9</td>\n",
       "      <td>1</td>\n",
       "      <td>female</td>\n",
       "      <td>0.19</td>\n",
       "      <td>0.65</td>\n",
       "      <td>2</td>\n",
       "      <td>0</td>\n",
       "      <td>5</td>\n",
       "      <td>yes</td>\n",
       "      <td>no</td>\n",
       "      <td>no</td>\n",
       "      <td>no</td>\n",
       "      <td>no</td>\n",
       "    </tr>\n",
       "    <tr>\n",
       "      <th>9</th>\n",
       "      <td>10</td>\n",
       "      <td>1</td>\n",
       "      <td>male</td>\n",
       "      <td>0.19</td>\n",
       "      <td>0.15</td>\n",
       "      <td>1</td>\n",
       "      <td>0</td>\n",
       "      <td>0</td>\n",
       "      <td>yes</td>\n",
       "      <td>no</td>\n",
       "      <td>no</td>\n",
       "      <td>no</td>\n",
       "      <td>no</td>\n",
       "    </tr>\n",
       "  </tbody>\n",
       "</table>\n",
       "</div>"
      ],
      "text/plain": [
       "   Unnamed: 0  visits  gender   age  income  illness  reduced  health private  \\\n",
       "0           1       1  female  0.19    0.55        1        4       1     yes   \n",
       "1           2       1  female  0.19    0.45        1        2       1     yes   \n",
       "2           3       1    male  0.19    0.90        3        0       0      no   \n",
       "3           4       1    male  0.19    0.15        1        0       0      no   \n",
       "4           5       1    male  0.19    0.45        2        5       1      no   \n",
       "5           6       1  female  0.19    0.35        5        1       9      no   \n",
       "6           7       1  female  0.19    0.55        4        0       2      no   \n",
       "7           8       1  female  0.19    0.15        3        0       6      no   \n",
       "8           9       1  female  0.19    0.65        2        0       5     yes   \n",
       "9          10       1    male  0.19    0.15        1        0       0     yes   \n",
       "\n",
       "  freepoor freerepat nchronic lchronic  \n",
       "0       no        no       no       no  \n",
       "1       no        no       no       no  \n",
       "2       no        no       no       no  \n",
       "3       no        no       no       no  \n",
       "4       no        no      yes       no  \n",
       "5       no        no      yes       no  \n",
       "6       no        no       no       no  \n",
       "7       no        no       no       no  \n",
       "8       no        no       no       no  \n",
       "9       no        no       no       no  "
      ]
     },
     "execution_count": 8,
     "metadata": {},
     "output_type": "execute_result"
    }
   ],
   "source": [
    "df.head(10)"
   ]
  },
  {
   "cell_type": "markdown",
   "id": "00901d10",
   "metadata": {},
   "source": [
    "# Display complete information about the columns of the dataset suchs as column name,count,data type and overoll memory usage"
   ]
  },
  {
   "cell_type": "code",
   "execution_count": 9,
   "id": "45ca2f98",
   "metadata": {},
   "outputs": [
    {
     "name": "stdout",
     "output_type": "stream",
     "text": [
      "<class 'pandas.core.frame.DataFrame'>\n",
      "RangeIndex: 5190 entries, 0 to 5189\n",
      "Data columns (total 13 columns):\n",
      " #   Column      Non-Null Count  Dtype  \n",
      "---  ------      --------------  -----  \n",
      " 0   Unnamed: 0  5190 non-null   int64  \n",
      " 1   visits      5190 non-null   int64  \n",
      " 2   gender      5190 non-null   object \n",
      " 3   age         5190 non-null   float64\n",
      " 4   income      5190 non-null   float64\n",
      " 5   illness     5190 non-null   int64  \n",
      " 6   reduced     5190 non-null   int64  \n",
      " 7   health      5190 non-null   int64  \n",
      " 8   private     5190 non-null   object \n",
      " 9   freepoor    5190 non-null   object \n",
      " 10  freerepat   5190 non-null   object \n",
      " 11  nchronic    5190 non-null   object \n",
      " 12  lchronic    5190 non-null   object \n",
      "dtypes: float64(2), int64(5), object(6)\n",
      "memory usage: 527.2+ KB\n"
     ]
    }
   ],
   "source": [
    "df.info()"
   ]
  },
  {
   "cell_type": "markdown",
   "id": "9309536e",
   "metadata": {},
   "source": [
    "# find out the total number of people based on thier count of illness"
   ]
  },
  {
   "cell_type": "code",
   "execution_count": 13,
   "id": "5a89015b",
   "metadata": {},
   "outputs": [
    {
     "data": {
      "text/plain": [
       "1    1638\n",
       "0    1554\n",
       "2     946\n",
       "3     542\n",
       "4     274\n",
       "5     236\n",
       "Name: illness, dtype: int64"
      ]
     },
     "execution_count": 13,
     "metadata": {},
     "output_type": "execute_result"
    }
   ],
   "source": [
    "df[\"illness\"].value_counts()"
   ]
  },
  {
   "cell_type": "markdown",
   "id": "708b2bff",
   "metadata": {},
   "source": [
    "# how many male and female are there"
   ]
  },
  {
   "cell_type": "code",
   "execution_count": 14,
   "id": "d5673055",
   "metadata": {},
   "outputs": [
    {
     "data": {
      "text/plain": [
       "female    2702\n",
       "male      2488\n",
       "Name: gender, dtype: int64"
      ]
     },
     "execution_count": 14,
     "metadata": {},
     "output_type": "execute_result"
    }
   ],
   "source": [
    "df[\"gender\"].value_counts()"
   ]
  },
  {
   "cell_type": "markdown",
   "id": "ab57315f",
   "metadata": {},
   "source": [
    "# Visualize and analyse the maximum,minimum and medium income"
   ]
  },
  {
   "cell_type": "code",
   "execution_count": 16,
   "id": "c1a169cf",
   "metadata": {},
   "outputs": [
    {
     "data": {
      "image/png": "[encoded data removed]",
      "text/plain": [
       "<Figure size 432x288 with 1 Axes>"
      ]
     },
     "metadata": {
      "needs_background": "light"
     },
     "output_type": "display_data"
    }
   ],
   "source": [
    "y = list(df.income)\n",
    "plt.boxplot(y)\n",
    "plt.show()"
   ]
  },
  {
   "cell_type": "markdown",
   "id": "eff4a8c4",
   "metadata": {},
   "source": [
    "# find out the number if reduce activity of male and female seperatly due to illness"
   ]
  },
  {
   "cell_type": "code",
   "execution_count": 17,
   "id": "70ef3702",
   "metadata": {},
   "outputs": [
    {
     "data": {
      "text/html": [
       "<div>\n",
       "<style scoped>\n",
       "    .dataframe tbody tr th:only-of-type {\n",
       "        vertical-align: middle;\n",
       "    }\n",
       "\n",
       "    .dataframe tbody tr th {\n",
       "        vertical-align: top;\n",
       "    }\n",
       "\n",
       "    .dataframe thead th {\n",
       "        text-align: right;\n",
       "    }\n",
       "</style>\n",
       "<table border=\"1\" class=\"dataframe\">\n",
       "  <thead>\n",
       "    <tr style=\"text-align: right;\">\n",
       "      <th></th>\n",
       "      <th></th>\n",
       "      <th>Unnamed: 0</th>\n",
       "      <th>visits</th>\n",
       "      <th>age</th>\n",
       "      <th>income</th>\n",
       "      <th>illness</th>\n",
       "      <th>health</th>\n",
       "    </tr>\n",
       "    <tr>\n",
       "      <th>gender</th>\n",
       "      <th>reduced</th>\n",
       "      <th></th>\n",
       "      <th></th>\n",
       "      <th></th>\n",
       "      <th></th>\n",
       "      <th></th>\n",
       "      <th></th>\n",
       "    </tr>\n",
       "  </thead>\n",
       "  <tbody>\n",
       "    <tr>\n",
       "      <th rowspan=\"14\" valign=\"top\">female</th>\n",
       "      <th>0</th>\n",
       "      <td>2524.038512</td>\n",
       "      <td>0.229322</td>\n",
       "      <td>0.465755</td>\n",
       "      <td>0.482735</td>\n",
       "      <td>1.462144</td>\n",
       "      <td>1.115098</td>\n",
       "    </tr>\n",
       "    <tr>\n",
       "      <th>1</th>\n",
       "      <td>1985.768421</td>\n",
       "      <td>0.400000</td>\n",
       "      <td>0.325684</td>\n",
       "      <td>0.542105</td>\n",
       "      <td>2.242105</td>\n",
       "      <td>1.610526</td>\n",
       "    </tr>\n",
       "    <tr>\n",
       "      <th>2</th>\n",
       "      <td>1622.618182</td>\n",
       "      <td>0.672727</td>\n",
       "      <td>0.391455</td>\n",
       "      <td>0.560182</td>\n",
       "      <td>2.236364</td>\n",
       "      <td>1.781818</td>\n",
       "    </tr>\n",
       "    <tr>\n",
       "      <th>3</th>\n",
       "      <td>997.311111</td>\n",
       "      <td>1.333333</td>\n",
       "      <td>0.403111</td>\n",
       "      <td>0.516000</td>\n",
       "      <td>2.733333</td>\n",
       "      <td>1.733333</td>\n",
       "    </tr>\n",
       "    <tr>\n",
       "      <th>4</th>\n",
       "      <td>1237.740741</td>\n",
       "      <td>0.851852</td>\n",
       "      <td>0.458889</td>\n",
       "      <td>0.466667</td>\n",
       "      <td>2.222222</td>\n",
       "      <td>2.074074</td>\n",
       "    </tr>\n",
       "    <tr>\n",
       "      <th>5</th>\n",
       "      <td>1169.055556</td>\n",
       "      <td>1.444444</td>\n",
       "      <td>0.401667</td>\n",
       "      <td>0.614444</td>\n",
       "      <td>2.222222</td>\n",
       "      <td>2.500000</td>\n",
       "    </tr>\n",
       "    <tr>\n",
       "      <th>6</th>\n",
       "      <td>1382.545455</td>\n",
       "      <td>1.363636</td>\n",
       "      <td>0.426364</td>\n",
       "      <td>0.622727</td>\n",
       "      <td>2.363636</td>\n",
       "      <td>1.363636</td>\n",
       "    </tr>\n",
       "    <tr>\n",
       "      <th>7</th>\n",
       "      <td>1034.846154</td>\n",
       "      <td>1.384615</td>\n",
       "      <td>0.436154</td>\n",
       "      <td>0.473462</td>\n",
       "      <td>2.653846</td>\n",
       "      <td>2.230769</td>\n",
       "    </tr>\n",
       "    <tr>\n",
       "      <th>8</th>\n",
       "      <td>1883.090909</td>\n",
       "      <td>1.090909</td>\n",
       "      <td>0.471818</td>\n",
       "      <td>0.404545</td>\n",
       "      <td>2.181818</td>\n",
       "      <td>4.000000</td>\n",
       "    </tr>\n",
       "    <tr>\n",
       "      <th>9</th>\n",
       "      <td>1349.000000</td>\n",
       "      <td>0.500000</td>\n",
       "      <td>0.570000</td>\n",
       "      <td>0.825000</td>\n",
       "      <td>3.000000</td>\n",
       "      <td>1.000000</td>\n",
       "    </tr>\n",
       "    <tr>\n",
       "      <th>10</th>\n",
       "      <td>1099.428571</td>\n",
       "      <td>2.142857</td>\n",
       "      <td>0.512857</td>\n",
       "      <td>0.421429</td>\n",
       "      <td>2.571429</td>\n",
       "      <td>2.000000</td>\n",
       "    </tr>\n",
       "    <tr>\n",
       "      <th>12</th>\n",
       "      <td>1661.000000</td>\n",
       "      <td>2.000000</td>\n",
       "      <td>0.720000</td>\n",
       "      <td>0.250000</td>\n",
       "      <td>3.500000</td>\n",
       "      <td>5.500000</td>\n",
       "    </tr>\n",
       "    <tr>\n",
       "      <th>13</th>\n",
       "      <td>906.000000</td>\n",
       "      <td>4.000000</td>\n",
       "      <td>0.720000</td>\n",
       "      <td>0.300000</td>\n",
       "      <td>4.500000</td>\n",
       "      <td>3.500000</td>\n",
       "    </tr>\n",
       "    <tr>\n",
       "      <th>14</th>\n",
       "      <td>1392.112069</td>\n",
       "      <td>1.543103</td>\n",
       "      <td>0.551724</td>\n",
       "      <td>0.427586</td>\n",
       "      <td>2.534483</td>\n",
       "      <td>4.112069</td>\n",
       "    </tr>\n",
       "    <tr>\n",
       "      <th rowspan=\"15\" valign=\"top\">male</th>\n",
       "      <th>0</th>\n",
       "      <td>3008.911019</td>\n",
       "      <td>0.136007</td>\n",
       "      <td>0.344703</td>\n",
       "      <td>0.694398</td>\n",
       "      <td>1.099585</td>\n",
       "      <td>0.924850</td>\n",
       "    </tr>\n",
       "    <tr>\n",
       "      <th>1</th>\n",
       "      <td>2485.158537</td>\n",
       "      <td>0.304878</td>\n",
       "      <td>0.286220</td>\n",
       "      <td>0.676341</td>\n",
       "      <td>1.743902</td>\n",
       "      <td>1.256098</td>\n",
       "    </tr>\n",
       "    <tr>\n",
       "      <th>2</th>\n",
       "      <td>2007.679245</td>\n",
       "      <td>0.471698</td>\n",
       "      <td>0.343585</td>\n",
       "      <td>0.653019</td>\n",
       "      <td>2.358491</td>\n",
       "      <td>1.547170</td>\n",
       "    </tr>\n",
       "    <tr>\n",
       "      <th>3</th>\n",
       "      <td>1909.068966</td>\n",
       "      <td>0.724138</td>\n",
       "      <td>0.334138</td>\n",
       "      <td>0.741379</td>\n",
       "      <td>2.137931</td>\n",
       "      <td>1.689655</td>\n",
       "    </tr>\n",
       "    <tr>\n",
       "      <th>4</th>\n",
       "      <td>1424.000000</td>\n",
       "      <td>0.722222</td>\n",
       "      <td>0.309444</td>\n",
       "      <td>0.869444</td>\n",
       "      <td>2.055556</td>\n",
       "      <td>2.000000</td>\n",
       "    </tr>\n",
       "    <tr>\n",
       "      <th>5</th>\n",
       "      <td>1437.272727</td>\n",
       "      <td>1.136364</td>\n",
       "      <td>0.331818</td>\n",
       "      <td>0.570455</td>\n",
       "      <td>2.272727</td>\n",
       "      <td>2.818182</td>\n",
       "    </tr>\n",
       "    <tr>\n",
       "      <th>6</th>\n",
       "      <td>562.000000</td>\n",
       "      <td>0.833333</td>\n",
       "      <td>0.340000</td>\n",
       "      <td>0.591667</td>\n",
       "      <td>2.500000</td>\n",
       "      <td>2.000000</td>\n",
       "    </tr>\n",
       "    <tr>\n",
       "      <th>7</th>\n",
       "      <td>1716.750000</td>\n",
       "      <td>0.750000</td>\n",
       "      <td>0.314167</td>\n",
       "      <td>0.655000</td>\n",
       "      <td>2.583333</td>\n",
       "      <td>4.333333</td>\n",
       "    </tr>\n",
       "    <tr>\n",
       "      <th>8</th>\n",
       "      <td>680.666667</td>\n",
       "      <td>1.333333</td>\n",
       "      <td>0.365000</td>\n",
       "      <td>0.833333</td>\n",
       "      <td>2.666667</td>\n",
       "      <td>2.000000</td>\n",
       "    </tr>\n",
       "    <tr>\n",
       "      <th>9</th>\n",
       "      <td>1375.400000</td>\n",
       "      <td>2.200000</td>\n",
       "      <td>0.310000</td>\n",
       "      <td>0.392000</td>\n",
       "      <td>2.400000</td>\n",
       "      <td>2.000000</td>\n",
       "    </tr>\n",
       "    <tr>\n",
       "      <th>10</th>\n",
       "      <td>1543.200000</td>\n",
       "      <td>1.800000</td>\n",
       "      <td>0.480000</td>\n",
       "      <td>0.590000</td>\n",
       "      <td>2.600000</td>\n",
       "      <td>4.600000</td>\n",
       "    </tr>\n",
       "    <tr>\n",
       "      <th>11</th>\n",
       "      <td>355.500000</td>\n",
       "      <td>5.000000</td>\n",
       "      <td>0.320000</td>\n",
       "      <td>1.000000</td>\n",
       "      <td>1.500000</td>\n",
       "      <td>0.500000</td>\n",
       "    </tr>\n",
       "    <tr>\n",
       "      <th>12</th>\n",
       "      <td>781.500000</td>\n",
       "      <td>2.000000</td>\n",
       "      <td>0.370000</td>\n",
       "      <td>0.515000</td>\n",
       "      <td>1.500000</td>\n",
       "      <td>1.000000</td>\n",
       "    </tr>\n",
       "    <tr>\n",
       "      <th>13</th>\n",
       "      <td>508.666667</td>\n",
       "      <td>4.000000</td>\n",
       "      <td>0.510000</td>\n",
       "      <td>0.350000</td>\n",
       "      <td>3.333333</td>\n",
       "      <td>2.333333</td>\n",
       "    </tr>\n",
       "    <tr>\n",
       "      <th>14</th>\n",
       "      <td>1236.069444</td>\n",
       "      <td>1.555556</td>\n",
       "      <td>0.476806</td>\n",
       "      <td>0.598611</td>\n",
       "      <td>2.375000</td>\n",
       "      <td>3.527778</td>\n",
       "    </tr>\n",
       "  </tbody>\n",
       "</table>\n",
       "</div>"
      ],
      "text/plain": [
       "                 Unnamed: 0    visits       age    income   illness    health\n",
       "gender reduced                                                               \n",
       "female 0        2524.038512  0.229322  0.465755  0.482735  1.462144  1.115098\n",
       "       1        1985.768421  0.400000  0.325684  0.542105  2.242105  1.610526\n",
       "       2        1622.618182  0.672727  0.391455  0.560182  2.236364  1.781818\n",
       "       3         997.311111  1.333333  0.403111  0.516000  2.733333  1.733333\n",
       "       4        1237.740741  0.851852  0.458889  0.466667  2.222222  2.074074\n",
       "       5        1169.055556  1.444444  0.401667  0.614444  2.222222  2.500000\n",
       "       6        1382.545455  1.363636  0.426364  0.622727  2.363636  1.363636\n",
       "       7        1034.846154  1.384615  0.436154  0.473462  2.653846  2.230769\n",
       "       8        1883.090909  1.090909  0.471818  0.404545  2.181818  4.000000\n",
       "       9        1349.000000  0.500000  0.570000  0.825000  3.000000  1.000000\n",
       "       10       1099.428571  2.142857  0.512857  0.421429  2.571429  2.000000\n",
       "       12       1661.000000  2.000000  0.720000  0.250000  3.500000  5.500000\n",
       "       13        906.000000  4.000000  0.720000  0.300000  4.500000  3.500000\n",
       "       14       1392.112069  1.543103  0.551724  0.427586  2.534483  4.112069\n",
       "male   0        3008.911019  0.136007  0.344703  0.694398  1.099585  0.924850\n",
       "       1        2485.158537  0.304878  0.286220  0.676341  1.743902  1.256098\n",
       "       2        2007.679245  0.471698  0.343585  0.653019  2.358491  1.547170\n",
       "       3        1909.068966  0.724138  0.334138  0.741379  2.137931  1.689655\n",
       "       4        1424.000000  0.722222  0.309444  0.869444  2.055556  2.000000\n",
       "       5        1437.272727  1.136364  0.331818  0.570455  2.272727  2.818182\n",
       "       6         562.000000  0.833333  0.340000  0.591667  2.500000  2.000000\n",
       "       7        1716.750000  0.750000  0.314167  0.655000  2.583333  4.333333\n",
       "       8         680.666667  1.333333  0.365000  0.833333  2.666667  2.000000\n",
       "       9        1375.400000  2.200000  0.310000  0.392000  2.400000  2.000000\n",
       "       10       1543.200000  1.800000  0.480000  0.590000  2.600000  4.600000\n",
       "       11        355.500000  5.000000  0.320000  1.000000  1.500000  0.500000\n",
       "       12        781.500000  2.000000  0.370000  0.515000  1.500000  1.000000\n",
       "       13        508.666667  4.000000  0.510000  0.350000  3.333333  2.333333\n",
       "       14       1236.069444  1.555556  0.476806  0.598611  2.375000  3.527778"
      ]
     },
     "execution_count": 17,
     "metadata": {},
     "output_type": "execute_result"
    }
   ],
   "source": [
    "df.groupby(['gender','reduced']).mean()"
   ]
  },
  {
   "cell_type": "markdown",
   "id": "e30ddf25",
   "metadata": {},
   "source": [
    "# Visualize is there is any missing values in the dataset based on a heat map"
   ]
  },
  {
   "cell_type": "code",
   "execution_count": 19,
   "id": "0f01521f",
   "metadata": {},
   "outputs": [
    {
     "data": {
      "text/plain": [
       "<AxesSubplot:>"
      ]
     },
     "execution_count": 19,
     "metadata": {},
     "output_type": "execute_result"
    },
    {
     "data": {
      "image/png": "[encoded data removed]",
      "text/plain": [
       "<Figure size 432x288 with 1 Axes>"
      ]
     },
     "metadata": {
      "needs_background": "light"
     },
     "output_type": "display_data"
    }
   ],
   "source": [
    "sns.heatmap(df.isnull(),cbar=False,cmap='viridis')"
   ]
  },
  {
   "cell_type": "markdown",
   "id": "c7dca1fb",
   "metadata": {},
   "source": [
    "# Find our the correlation between variable in the given dataset correlation between different varibles"
   ]
  },
  {
   "cell_type": "code",
   "execution_count": 22,
   "id": "fd941c38",
   "metadata": {},
   "outputs": [
    {
     "data": {
      "text/plain": [
       "<AxesSubplot:>"
      ]
     },
     "execution_count": 22,
     "metadata": {},
     "output_type": "execute_result"
    },
    {
     "data": {
      "image/png": "[encoded data removed]",
      "text/plain": [
       "<Figure size 720x720 with 2 Axes>"
      ]
     },
     "metadata": {
      "needs_background": "light"
     },
     "output_type": "display_data"
    }
   ],
   "source": [
    "plt.figure(figsize=(10,10))\n",
    "sns.heatmap(df.corr(),cbar=True,annot=True,cmap='Blues')"
   ]
  },
  {
   "cell_type": "markdown",
   "id": "f41546f9",
   "metadata": {},
   "source": [
    "# Analyse how the income of a patient affects the number of visits to the hospital"
   ]
  },
  {
   "cell_type": "code",
   "execution_count": 23,
   "id": "8975d754",
   "metadata": {},
   "outputs": [
    {
     "data": {
      "text/plain": [
       "Text(0, 0.5, 'visits')"
      ]
     },
     "execution_count": 23,
     "metadata": {},
     "output_type": "execute_result"
    },
    {
     "data": {
      "image/png": "[encoded data removed]",
      "text/plain": [
       "<Figure size 720x720 with 1 Axes>"
      ]
     },
     "metadata": {
      "needs_background": "light"
     },
     "output_type": "display_data"
    }
   ],
   "source": [
    "plt.figure(figsize=(10,10))\n",
    "plt.scatter(x='income',y='visits',data=df)\n",
    "plt.xlabel('income')\n",
    "plt.ylabel('visits')"
   ]
  },
  {
   "cell_type": "markdown",
   "id": "f0f19037",
   "metadata": {},
   "source": [
    "# count and visualize the number of males and femlaes affected by illness"
   ]
  },
  {
   "cell_type": "code",
   "execution_count": 24,
   "id": "7bc66c07",
   "metadata": {},
   "outputs": [
    {
     "data": {
      "text/plain": [
       "<AxesSubplot:xlabel='gender', ylabel='Count'>"
      ]
     },
     "execution_count": 24,
     "metadata": {},
     "output_type": "execute_result"
    },
    {
     "data": {
      "image/png": "[encoded data removed]",
      "text/plain": [
       "<Figure size 432x288 with 1 Axes>"
      ]
     },
     "metadata": {
      "needs_background": "light"
     },
     "output_type": "display_data"
    }
   ],
   "source": [
    "sns.histplot(df.gender,bins=2)"
   ]
  },
  {
   "cell_type": "markdown",
   "id": "faaff0a7",
   "metadata": {},
   "source": [
    "# Visualize the percentage of people getting govt health insurance due to low income,due to old age and also the percentage of people having private health insurance"
   ]
  },
  {
   "cell_type": "code",
   "execution_count": 30,
   "id": "2fa79e95",
   "metadata": {},
   "outputs": [
    {
     "data": {
      "image/png": "[encoded data removed]",
      "text/plain": [
       "<Figure size 360x360 with 1 Axes>"
      ]
     },
     "metadata": {},
     "output_type": "display_data"
    },
    {
     "data": {
      "image/png": "[encoded data removed]",
      "text/plain": [
       "<Figure size 360x360 with 1 Axes>"
      ]
     },
     "metadata": {},
     "output_type": "display_data"
    },
    {
     "data": {
      "image/png": "[encoded data removed]",
      "text/plain": [
       "<Figure size 360x360 with 1 Axes>"
      ]
     },
     "metadata": {},
     "output_type": "display_data"
    }
   ],
   "source": [
    "label=['yes','no']\n",
    "Y = df[df['freepoor']=='yes']\n",
    "N = df[df['freepoor']=='no']\n",
    "x = [Y.shape[0],N.shape[0]]\n",
    "plt.figure(figsize=(5,5))\n",
    "plt.pie(x,labels=label)\n",
    "plt.title(\"% of people getting govt health Insurance due to low income \")\n",
    "plt.show()\n",
    "Y = df[df['private']=='yes']\n",
    "N = df[df['private']=='no']\n",
    "x = [Y.shape[0],N.shape[0]]\n",
    "plt.figure(figsize=(5,5))\n",
    "plt.pie(x,labels=label)\n",
    "plt.title(\"% of people having private health Insurance \")\n",
    "plt.show()\n",
    "Y = df[df['freerepat']=='yes']\n",
    "N = df[df['freerepat']=='no']\n",
    "x = [Y.shape[0],N.shape[0]]\n",
    "plt.figure(figsize=(5,5))\n",
    "plt.pie(x,labels=label)\n",
    "plt.title(\"% of people getting govt health insurance due to old age, disability or veterab status \")\n",
    "plt.show()\n"
   ]
  },
  {
   "cell_type": "markdown",
   "id": "fefea6b0",
   "metadata": {},
   "source": [
    "# # Draw correlation Matrix"
   ]
  },
  {
   "cell_type": "code",
   "execution_count": 43,
   "id": "a56a6513",
   "metadata": {},
   "outputs": [
    {
     "data": {
      "text/plain": [
       "<AxesSubplot:>"
      ]
     },
     "execution_count": 43,
     "metadata": {},
     "output_type": "execute_result"
    },
    {
     "data": {
      "image/png": "[encoded data removed]",
      "text/plain": [
       "<Figure size 1224x504 with 2 Axes>"
      ]
     },
     "metadata": {
      "needs_background": "light"
     },
     "output_type": "display_data"
    }
   ],
   "source": [
    "plt.figure(figsize=(17,7))\n",
    "sns.heatmap(data.corr(),annot=True)"
   ]
  },
  {
   "cell_type": "markdown",
   "id": "d4edab89",
   "metadata": {},
   "source": [
    "# Check how many visits are attedent "
   ]
  },
  {
   "cell_type": "code",
   "execution_count": 49,
   "id": "8017e4c8",
   "metadata": {},
   "outputs": [
    {
     "data": {
      "text/plain": [
       "Index(['Unnamed: 0', 'visits', 'gender', 'age', 'income', 'illness', 'reduced',\n",
       "       'health', 'private', 'freepoor', 'freerepat', 'nchronic', 'lchronic'],\n",
       "      dtype='object')"
      ]
     },
     "execution_count": 49,
     "metadata": {},
     "output_type": "execute_result"
    }
   ],
   "source": [
    "data.columns"
   ]
  },
  {
   "cell_type": "code",
   "execution_count": 52,
   "id": "5818356d",
   "metadata": {},
   "outputs": [
    {
     "data": {
      "text/plain": [
       "<AxesSubplot:>"
      ]
     },
     "execution_count": 52,
     "metadata": {},
     "output_type": "execute_result"
    },
    {
     "data": {
      "image/png": "[encoded data removed]",
      "text/plain": [
       "<Figure size 432x288 with 1 Axes>"
      ]
     },
     "metadata": {
      "needs_background": "light"
     },
     "output_type": "display_data"
    }
   ],
   "source": [
    " data['visits'].hist()"
   ]
  },
  {
   "cell_type": "markdown",
   "id": "af1c4dab",
   "metadata": {},
   "source": [
    "# Check Null values in the Dataset"
   ]
  },
  {
   "cell_type": "code",
   "execution_count": 53,
   "id": "37cc7f8b",
   "metadata": {},
   "outputs": [
    {
     "data": {
      "text/plain": [
       "Unnamed: 0    0\n",
       "visits        0\n",
       "gender        0\n",
       "age           0\n",
       "income        0\n",
       "illness       0\n",
       "reduced       0\n",
       "health        0\n",
       "private       0\n",
       "freepoor      0\n",
       "freerepat     0\n",
       "nchronic      0\n",
       "lchronic      0\n",
       "dtype: int64"
      ]
     },
     "execution_count": 53,
     "metadata": {},
     "output_type": "execute_result"
    }
   ],
   "source": [
    "data.isnull().sum()"
   ]
  },
  {
   "cell_type": "markdown",
   "id": "3bb75c5e",
   "metadata": {},
   "source": [
    "# Find shape of our Dataset(Number of Rows and Columns)"
   ]
  },
  {
   "cell_type": "code",
   "execution_count": 54,
   "id": "33a6978d",
   "metadata": {},
   "outputs": [
    {
     "name": "stdout",
     "output_type": "stream",
     "text": [
      "Number of Rows 5190\n",
      "Number of Colommns 13\n"
     ]
    }
   ],
   "source": [
    "print(\"Number of Rows\",data.shape[0])\n",
    "print(\"Number of Colommns\",data.shape[1])"
   ]
  },
  {
   "cell_type": "markdown",
   "id": "552d6217",
   "metadata": {},
   "source": [
    "# Check how many nchronic "
   ]
  },
  {
   "cell_type": "code",
   "execution_count": 58,
   "id": "11098f59",
   "metadata": {},
   "outputs": [
    {
     "data": {
      "text/plain": [
       "<AxesSubplot:>"
      ]
     },
     "execution_count": 58,
     "metadata": {},
     "output_type": "execute_result"
    },
    {
     "data": {
      "image/png": "[encoded data removed]",
      "text/plain": [
       "<Figure size 432x288 with 1 Axes>"
      ]
     },
     "metadata": {
      "needs_background": "light"
     },
     "output_type": "display_data"
    }
   ],
   "source": [
    " data['nchronic'].hist()"
   ]
  },
  {
   "cell_type": "code",
   "execution_count": null,
   "id": "2b0972d2",
   "metadata": {},
   "outputs": [],
   "source": []
  }
 ],
 "metadata": {
  "kernelspec": {
   "display_name": "Python 3 (ipykernel)",
   "language": "python",
   "name": "python3"
  },
  "language_info": {
   "codemirror_mode": {
    "name": "ipython",
    "version": 3
   },
   "file_extension": ".py",
   "mimetype": "text/x-python",
   "name": "python",
   "nbconvert_exporter": "python",
   "pygments_lexer": "ipython3",
   "version": "3.9.12"
  }
 },
 "nbformat": 4,
 "nbformat_minor": 5
}
